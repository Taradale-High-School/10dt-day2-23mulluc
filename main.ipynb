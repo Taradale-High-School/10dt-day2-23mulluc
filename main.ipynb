{
 "cells": [
  {
   "cell_type": "markdown",
   "metadata": {},
   "source": [
    "1. What happens when you run this line?"
   ]
  },
  {
   "cell_type": "code",
   "execution_count": 1,
   "metadata": {},
   "outputs": [
    {
     "data": {
      "text/plain": [
       "'luca'"
      ]
     },
     "execution_count": 1,
     "metadata": {},
     "output_type": "execute_result"
    }
   ],
   "source": [
    "input(\"What's your name?: \")"
   ]
  },
  {
   "cell_type": "markdown",
   "metadata": {},
   "source": [
    "2. What happens when you run these lines?"
   ]
  },
  {
   "cell_type": "code",
   "execution_count": 5,
   "metadata": {},
   "outputs": [
    {
     "name": "stdout",
     "output_type": "stream",
     "text": [
      "Gee, that's REALLY OLD\n",
      "OF COURSE YOU DO!\n"
     ]
    }
   ],
   "source": [
    "myName = input(\"What's you name?: \")\n",
    "myAge = input(\"How old are you? :\")\n",
    "print(\"Gee, that's REALLY OLD\")\n",
    "replit = input(\"Do you like Replit?\")\n",
    "print(\"OF COURSE YOU DO!\")"
   ]
  },
  {
   "cell_type": "markdown",
   "metadata": {},
   "source": [
    "3. What happens when you run these lines?"
   ]
  },
  {
   "cell_type": "code",
   "execution_count": 7,
   "metadata": {},
   "outputs": [
    {
     "name": "stdout",
     "output_type": "stream",
     "text": [
      "\n",
      "So, you are\n",
      "luca\n",
      "and are the ripe old age of\n",
      "14\n",
      "and clearly think that Replit is\n",
      "yes\n"
     ]
    }
   ],
   "source": [
    "print()\n",
    "print(\"So, you are\")\n",
    "print(myName)\n",
    "print(\"and are the ripe old age of\")\n",
    "print(myAge)\n",
    "print(\"and clearly think that Replit is\")\n",
    "print(replit)"
   ]
  },
  {
   "cell_type": "markdown",
   "metadata": {},
   "source": [
    "4. What happens when you run these lines? Fix the code."
   ]
  },
  {
   "cell_type": "code",
   "execution_count": 9,
   "metadata": {},
   "outputs": [
    {
     "name": "stdout",
     "output_type": "stream",
     "text": [
      "lewka\n"
     ]
    }
   ],
   "source": [
    "myVariable = input(\"WHO GOES THERE? \")\n",
    "print(myVariable)"
   ]
  },
  {
   "cell_type": "markdown",
   "metadata": {},
   "source": [
    "5. What happens when you run these lines? Fix the code."
   ]
  },
  {
   "cell_type": "code",
   "execution_count": 11,
   "metadata": {},
   "outputs": [
    {
     "name": "stdout",
     "output_type": "stream",
     "text": [
      "shes dead lol\n"
     ]
    }
   ],
   "source": [
    "myGrandma = input(\"How's your Grandma doing? 😘 \")\n",
    "print(myGrandma)"
   ]
  },
  {
   "cell_type": "markdown",
   "metadata": {},
   "source": [
    "6. What happens when you run these lines? Fix the code."
   ]
  },
  {
   "cell_type": "code",
   "execution_count": 13,
   "metadata": {},
   "outputs": [
    {
     "name": "stdout",
     "output_type": "stream",
     "text": [
      "Hmm, it sounds like you really should just order\n",
      "chicken nuggets\n",
      "as soon as possible!\n"
     ]
    }
   ],
   "source": [
    "myLunch = input(\"What are you having for lunch? \")\n",
    "print(\"Hmm, it sounds like you really should just order\")\n",
    "print(myLunch)\n",
    "print(\"as soon as possible!\")"
   ]
  },
  {
   "cell_type": "markdown",
   "metadata": {},
   "source": [
    "7. What happens when you run these lines? Fix the code."
   ]
  },
  {
   "cell_type": "code",
   "execution_count": 15,
   "metadata": {},
   "outputs": [
    {
     "name": "stdout",
     "output_type": "stream",
     "text": [
      "Definitely not a Phishing Scam\n",
      "\n",
      "Thanks for logging in\n",
      "luca\n",
      "Thanks, I definitely wont put\n",
      "i forgot :l\n",
      "into Amazon and order anything weird\n",
      "\n",
      "Promise\n",
      "\n",
      "That's cool, I just wanted to know that\n",
      "i forgot :l\n",
      "was your Mum's maiden name. Not because the bank requested it or anything, honest.\n"
     ]
    }
   ],
   "source": [
    "print(\"Definitely not a Phishing Scam\")\n",
    "print()\n",
    "input(\"Your Name\")\n",
    "print(\"Thanks for logging in\")\n",
    "print(myName)\n",
    "cardNumber = input(\"What is your credit card number?\")\n",
    "print(\"Thanks, I definitely wont put\")\n",
    "print(cardNumber)\n",
    "print(\"into Amazon and order anything weird\")\n",
    "print()\n",
    "print(\"Promise\")\n",
    "maidenName = input(\"What is your Mother's maiden name? \")\n",
    "print()\n",
    "print(\"That's cool, I just wanted to know that\")\n",
    "print(maidenName)\n",
    "print(\"was your Mum's maiden name. Not because the bank requested it or anything, honest.\")"
   ]
  },
  {
   "cell_type": "markdown",
   "metadata": {},
   "source": [
    "### Day 2 Challenge\n",
    "\n",
    "1. Asks for the user's name, favorite food, favorite music and where they live (or you can create other questions!).  Store all of the answers in different variables.\n",
    "\n",
    "2. Print out a full sentence that includes the user's favorite things.\n",
    "\n",
    "3. Give them a positive affirmation at the end - tell them they rock at doing something!"
   ]
  },
  {
   "cell_type": "code",
   "execution_count": 4,
   "metadata": {},
   "outputs": [
    {
     "name": "stdout",
     "output_type": "stream",
     "text": [
      "Hey luca, chicken nuggets is my favorite too! I've also heard the song oh the guilt, it's pretty cool. And you live in frown town?!?! Awesome!\n"
     ]
    }
   ],
   "source": [
    "userName = input(\"What's your name?\")\n",
    "userFood = input(\"What about your favorite food?\")\n",
    "userSong = input(\"Favorite song?\")\n",
    "userLocation = input(\"Where do you live?\")\n",
    "\n",
    "print(\"Hey\", userName + \",\", userFood, \"is my favorite too! I've also heard the song\", userSong + \", it's pretty cool. And you live in\", userLocation + \"?!?! Awesome!\")"
   ]
  }
 ],
 "metadata": {
  "kernelspec": {
   "display_name": "venv",
   "language": "python",
   "name": "python3"
  },
  "language_info": {
   "codemirror_mode": {
    "name": "ipython",
    "version": 3
   },
   "file_extension": ".py",
   "mimetype": "text/x-python",
   "name": "python",
   "nbconvert_exporter": "python",
   "pygments_lexer": "ipython3",
   "version": "3.10.12"
  }
 },
 "nbformat": 4,
 "nbformat_minor": 2
}
